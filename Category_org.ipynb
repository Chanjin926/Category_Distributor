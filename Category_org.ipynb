{
 "cells": [
  {
   "cell_type": "code",
   "execution_count": 1,
   "id": "8c789d43",
   "metadata": {},
   "outputs": [],
   "source": [
    "import numpy as np\n",
    "import pandas as pd\n",
    "from konlpy.tag import Okt\n",
    "from sklearn.feature_extraction.text import TfidfVectorizer\n",
    "from sklearn.feature_extraction.text import CountVectorizer"
   ]
  },
  {
   "cell_type": "code",
   "execution_count": 2,
   "id": "b26d1022",
   "metadata": {},
   "outputs": [],
   "source": [
    "del_list = ['하다', '있다', '되다', '이다', '돼다', '않다', '그렇다', '아니다', '이렇다', '그렇다', '어떻다'] "
   ]
  },
  {
   "cell_type": "code",
   "execution_count": 3,
   "id": "e7976e0a",
   "metadata": {},
   "outputs": [],
   "source": [
    "# 품사에 따라 \n",
    "tokenizer = Okt()\n",
    "\n",
    "def tokenize(text):\n",
    "    raw_pos_tagged = tokenizer.pos(text)\n",
    "    filtered = [word for word, pos in raw_pos_tagged \n",
    "                if pos in ['Noun', 'Verb', 'Adjective'] and word not in del_list]\n",
    "    \n",
    "    return filtered"
   ]
  },
  {
   "cell_type": "code",
   "execution_count": 4,
   "id": "3719413f",
   "metadata": {},
   "outputs": [
    {
     "data": {
      "text/html": [
       "<div>\n",
       "<style scoped>\n",
       "    .dataframe tbody tr th:only-of-type {\n",
       "        vertical-align: middle;\n",
       "    }\n",
       "\n",
       "    .dataframe tbody tr th {\n",
       "        vertical-align: top;\n",
       "    }\n",
       "\n",
       "    .dataframe thead th {\n",
       "        text-align: right;\n",
       "    }\n",
       "</style>\n",
       "<table border=\"1\" class=\"dataframe\">\n",
       "  <thead>\n",
       "    <tr style=\"text-align: right;\">\n",
       "      <th></th>\n",
       "      <th>Date</th>\n",
       "      <th>Category</th>\n",
       "      <th>Press</th>\n",
       "      <th>Title</th>\n",
       "      <th>Document</th>\n",
       "      <th>Link</th>\n",
       "    </tr>\n",
       "  </thead>\n",
       "  <tbody>\n",
       "    <tr>\n",
       "      <th>0</th>\n",
       "      <td>2023.10.12. 오전 10:11</td>\n",
       "      <td>정치 일반</td>\n",
       "      <td>MBC</td>\n",
       "      <td>[시선집중] 이주호 “사교육 부담 증가는 학원가 불안 마케팅.. 올 수능, 킬러문항...</td>\n",
       "      <td>&lt;이주호 사회부총리 겸 교육부장관&gt;\\r-대입 제도 개편.. 안정과 공정, 혁신에 최...</td>\n",
       "      <td>https://n.news.naver.com/mnews/article/214/000...</td>\n",
       "    </tr>\n",
       "    <tr>\n",
       "      <th>1</th>\n",
       "      <td>2023.10.12. 오전 10:11</td>\n",
       "      <td>정치 일반</td>\n",
       "      <td>세계일보</td>\n",
       "      <td>대통령실, 보선 참패에 “어떤 선거 결과든 엄중히 받아들여야”</td>\n",
       "      <td>국민의힘, 13일 오전 긴급최고위원회의 개최 “당 체질 개선 논의”    김기현 국...</td>\n",
       "      <td>https://n.news.naver.com/mnews/article/022/000...</td>\n",
       "    </tr>\n",
       "    <tr>\n",
       "      <th>2</th>\n",
       "      <td>2023.10.12. 오전 10:09</td>\n",
       "      <td>정치 일반</td>\n",
       "      <td>TV조선</td>\n",
       "      <td>北, 김영호 통일장관에 \"미치광이·매국 역적\" 막말</td>\n",
       "      <td>북한의 대외 선전매체들이 일제히 김영호 통일부 장관에 대해 막말을 동원하며 비난에 ...</td>\n",
       "      <td>https://n.news.naver.com/mnews/article/448/000...</td>\n",
       "    </tr>\n",
       "    <tr>\n",
       "      <th>3</th>\n",
       "      <td>2023.10.12. 오전 10:08</td>\n",
       "      <td>정치 일반</td>\n",
       "      <td>연합뉴스</td>\n",
       "      <td>선서하는 윤희근 경찰청장</td>\n",
       "      <td>(서울=연합뉴스) 김도훈 기자 = 12일 오전 서울 경찰청에서 열린 경찰청·도로교통...</td>\n",
       "      <td>https://n.news.naver.com/mnews/article/001/001...</td>\n",
       "    </tr>\n",
       "    <tr>\n",
       "      <th>4</th>\n",
       "      <td>2023.10.12. 오전 10:08</td>\n",
       "      <td>정치 일반</td>\n",
       "      <td>뉴시스</td>\n",
       "      <td>귀어귀촌 인구유입 사업 예산 전액 삭감…\"어촌소멸 나 몰라라\"</td>\n",
       "      <td>도시민 어촌유치지원사업·귀어학교 개설사업 내년도 예산 전액 삭감소병훈 위원장 \"핵오...</td>\n",
       "      <td>https://n.news.naver.com/mnews/article/003/001...</td>\n",
       "    </tr>\n",
       "  </tbody>\n",
       "</table>\n",
       "</div>"
      ],
      "text/plain": [
       "                   Date Category Press  \\\n",
       "0  2023.10.12. 오전 10:11    정치 일반   MBC   \n",
       "1  2023.10.12. 오전 10:11    정치 일반  세계일보   \n",
       "2  2023.10.12. 오전 10:09    정치 일반  TV조선   \n",
       "3  2023.10.12. 오전 10:08    정치 일반  연합뉴스   \n",
       "4  2023.10.12. 오전 10:08    정치 일반   뉴시스   \n",
       "\n",
       "                                               Title  \\\n",
       "0  [시선집중] 이주호 “사교육 부담 증가는 학원가 불안 마케팅.. 올 수능, 킬러문항...   \n",
       "1                 대통령실, 보선 참패에 “어떤 선거 결과든 엄중히 받아들여야”   \n",
       "2                       北, 김영호 통일장관에 \"미치광이·매국 역적\" 막말   \n",
       "3                                      선서하는 윤희근 경찰청장   \n",
       "4                 귀어귀촌 인구유입 사업 예산 전액 삭감…\"어촌소멸 나 몰라라\"   \n",
       "\n",
       "                                            Document  \\\n",
       "0  <이주호 사회부총리 겸 교육부장관>\\r-대입 제도 개편.. 안정과 공정, 혁신에 최...   \n",
       "1  국민의힘, 13일 오전 긴급최고위원회의 개최 “당 체질 개선 논의”    김기현 국...   \n",
       "2  북한의 대외 선전매체들이 일제히 김영호 통일부 장관에 대해 막말을 동원하며 비난에 ...   \n",
       "3  (서울=연합뉴스) 김도훈 기자 = 12일 오전 서울 경찰청에서 열린 경찰청·도로교통...   \n",
       "4  도시민 어촌유치지원사업·귀어학교 개설사업 내년도 예산 전액 삭감소병훈 위원장 \"핵오...   \n",
       "\n",
       "                                                Link  \n",
       "0  https://n.news.naver.com/mnews/article/214/000...  \n",
       "1  https://n.news.naver.com/mnews/article/022/000...  \n",
       "2  https://n.news.naver.com/mnews/article/448/000...  \n",
       "3  https://n.news.naver.com/mnews/article/001/001...  \n",
       "4  https://n.news.naver.com/mnews/article/003/001...  "
      ]
     },
     "execution_count": 4,
     "metadata": {},
     "output_type": "execute_result"
    }
   ],
   "source": [
    "df = pd.read_excel('result_231012_1218.xlsx')\n",
    "df = df.dropna()\n",
    "df.head()"
   ]
  },
  {
   "cell_type": "code",
   "execution_count": 5,
   "id": "6ae9fd34",
   "metadata": {},
   "outputs": [],
   "source": [
    "# 카테고리 Label Encoding\n",
    "from sklearn.preprocessing import LabelEncoder\n",
    "from sklearn.model_selection import train_test_split\n",
    "\n",
    "le = LabelEncoder()\n",
    "df['Encoded_Category'] = le.fit_transform(df['Category'])\n",
    "\n",
    "X = df['Title'] + \" \" + df['Document']\n",
    "Y = df['Encoded_Category']\n",
    "\n",
    "X_train, X_test, Y_train, Y_test = train_test_split(X, Y, test_size = 0.3, random_state = 42)"
   ]
  },
  {
   "cell_type": "code",
   "execution_count": 6,
   "id": "1de7d81f",
   "metadata": {},
   "outputs": [],
   "source": [
    "vectorizer = TfidfVectorizer(tokenizer=tokenize, lowercase=False)\n",
    "\n",
    "X_train_vec = vectorizer.fit_transform(X_train).toarray()\n",
    "X_test_vec = vectorizer.transform(X_test).toarray()"
   ]
  },
  {
   "cell_type": "markdown",
   "id": "6179bee8",
   "metadata": {},
   "source": [
    "### Multinomial - Naive Bayes"
   ]
  },
  {
   "cell_type": "code",
   "execution_count": 7,
   "id": "cb8831c3",
   "metadata": {},
   "outputs": [
    {
     "name": "stdout",
     "output_type": "stream",
     "text": [
      "Accuracy score:  0.6828721017202692\n",
      "Mean Squared Error:  1.2094240837696335\n",
      "[[188  26   9  29   9]\n",
      " [ 40 162  31  42  18]\n",
      " [ 19  32 148  44  32]\n",
      " [  9   7  17 185   9]\n",
      " [  8  14  17  12 230]]\n"
     ]
    }
   ],
   "source": [
    "from sklearn.naive_bayes import GaussianNB\n",
    "from sklearn.metrics import confusion_matrix\n",
    "from sklearn.metrics import accuracy_score\n",
    "from sklearn.metrics import mean_squared_error\n",
    "\n",
    "classifier = GaussianNB();\n",
    "classifier.fit(X_train_vec, Y_train)\n",
    "\n",
    "# predicting test set results\n",
    "Y_pred = classifier.predict(X_test_vec)\n",
    "print('Accuracy score: ', accuracy_score(Y_test, Y_pred))\n",
    "\n",
    "MSE = mean_squared_error(Y_test, Y_pred)\n",
    "print('Mean Squared Error: ', MSE)\n",
    "\n",
    "# making the confusion matrix\n",
    "cm = confusion_matrix(Y_test, Y_pred)\n",
    "print(cm)"
   ]
  },
  {
   "cell_type": "markdown",
   "id": "18d4c91f",
   "metadata": {},
   "source": [
    "### Getting Result"
   ]
  },
  {
   "cell_type": "code",
   "execution_count": 11,
   "id": "ca264859",
   "metadata": {},
   "outputs": [
    {
     "name": "stdout",
     "output_type": "stream",
     "text": [
      "텍스트를 입력하세요: 태풍'독수리'북상 중...\"한반도 장마 영향 가능성\"\n",
      "Naive Bayes를 통해 얻은 결과는 ' 사회 일반 '입니다.\n"
     ]
    }
   ],
   "source": [
    "# 사용자가 데이터를 입력, 전처리\n",
    "input_data = input(\"텍스트를 입력하세요: \")\n",
    "raw_data = tokenize(input_data)\n",
    "input_data_vec = vectorizer.transform(raw_data).toarray()\n",
    "\n",
    "# 결과 출력_Naive Bayes\n",
    "dt_pred = classifier.predict(input_data_vec)\n",
    "pred_res = le.inverse_transform(dt_pred)\n",
    "print(\"Naive Bayes를 통해 얻은 결과는 '\", pred_res[0], \"'입니다.\")\n"
   ]
  },
  {
   "cell_type": "code",
   "execution_count": null,
   "id": "65acfadf",
   "metadata": {},
   "outputs": [],
   "source": []
  }
 ],
 "metadata": {
  "kernelspec": {
   "display_name": "Python 3 (ipykernel)",
   "language": "python",
   "name": "python3"
  },
  "language_info": {
   "codemirror_mode": {
    "name": "ipython",
    "version": 3
   },
   "file_extension": ".py",
   "mimetype": "text/x-python",
   "name": "python",
   "nbconvert_exporter": "python",
   "pygments_lexer": "ipython3",
   "version": "3.8.18"
  }
 },
 "nbformat": 4,
 "nbformat_minor": 5
}
